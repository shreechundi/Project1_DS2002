{
 "cells": [
  {
   "cell_type": "code",
   "execution_count": 28,
   "id": "992a335b",
   "metadata": {},
   "outputs": [],
   "source": [
    "import json\n",
    "import csv\n",
    "import pandas as pd\n",
    "import sqlite3"
   ]
  },
  {
   "cell_type": "code",
   "execution_count": 29,
   "id": "b665a383",
   "metadata": {},
   "outputs": [],
   "source": [
    "data = pd.read_csv('transfusion.csv')\n",
    "#3. Modify the number of columns from the source to the destination,\n",
    "#reducing or adding columns so that you transform it with something\n",
    "#else…:\n",
    "data.drop(\"whether he/she donated blood in March 2007\", inplace=True, axis=1)\n",
    "data = data.rename(columns=({'Recency (months)':'Recency'}))\n",
    "data = data.rename(columns=({'Frequency (times)': 'Frequency'}))\n",
    "data = data.rename(columns=({'Monetary (c.c. blood)': 'Monetary'}))\n",
    "data = data.rename(columns=({'Time (months)': 'Time'}))"
   ]
  },
  {
   "cell_type": "code",
   "execution_count": 30,
   "id": "927b677d",
   "metadata": {},
   "outputs": [
    {
     "name": "stdout",
     "output_type": "stream",
     "text": [
      "Choose data output format. Enter '1' for a JSON file or '2' for a SQL database.\n",
      "2\n"
     ]
    }
   ],
   "source": [
    "#2. user chooses output to convert to \n",
    "print(\"Choose data output format. Enter '1' for a JSON file or '2' for a SQL database.\")\n",
    "format = input()"
   ]
  },
  {
   "cell_type": "code",
   "execution_count": 31,
   "id": "f230b836",
   "metadata": {},
   "outputs": [],
   "source": [
    "#https://datatofish.com/csv-to-json-string-python/\n",
    "#CSV to JSON file\n",
    "if format == '1':\n",
    "    data.to_json (r'transfusion.json')"
   ]
  },
  {
   "cell_type": "code",
   "execution_count": 32,
   "id": "e8abe952",
   "metadata": {},
   "outputs": [],
   "source": [
    "#write to sqlite\n",
    "#https://mungingdata.com/sqlite/create-database-load-csv-python/\n",
    "if format == '2':\n",
    "    from pathlib import Path\n",
    "    Path('transfusion.db').touch()\n",
    "    conn = sqlite3.connect('transfusion.db')\n",
    "    c = conn.cursor()\n",
    "    try:\n",
    "        c.execute('''CREATE TABLE transfusions (Recency int,\n",
    "        Frequency int,\n",
    "        Monetary int,\n",
    "        Time int)''')\n",
    "        # write the data to a sqlite table\n",
    "        data.to_sql('transfusions', conn, if_exists='append', index = False)\n",
    "        \n",
    "    except sqlite3.OperationalError:\n",
    "        print (\"Table already exists\")\n",
    "        "
   ]
  }
 ],
 "metadata": {
  "kernelspec": {
   "display_name": "Python 3 (ipykernel)",
   "language": "python",
   "name": "python3"
  },
  "language_info": {
   "codemirror_mode": {
    "name": "ipython",
    "version": 3
   },
   "file_extension": ".py",
   "mimetype": "text/x-python",
   "name": "python",
   "nbconvert_exporter": "python",
   "pygments_lexer": "ipython3",
   "version": "3.9.12"
  }
 },
 "nbformat": 4,
 "nbformat_minor": 5
}
